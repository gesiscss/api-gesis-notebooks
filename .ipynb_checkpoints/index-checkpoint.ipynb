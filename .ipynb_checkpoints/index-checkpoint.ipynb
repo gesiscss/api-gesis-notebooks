{
 "cells": [
  {
   "cell_type": "markdown",
   "metadata": {},
   "source": [
    "# Usage of Gesis Notebooks"
   ]
  },
  {
   "cell_type": "code",
   "execution_count": 17,
   "metadata": {},
   "outputs": [],
   "source": [
    "%matplotlib inline\n",
    "import matplotlib.pyplot as plt\n",
    "import datetime\n",
    "import math\n",
    "import pandas as pd\n",
    "import requests\n",
    "import time"
   ]
  },
  {
   "cell_type": "code",
   "execution_count": 18,
   "metadata": {},
   "outputs": [],
   "source": [
    "from_dt = datetime.datetime(2018,10,1).isoformat()\n",
    "to_dt = datetime.datetime(2020,9,30).isoformat()\n",
    "url = f'https://notebooks.gesis.org/gallery/api/v1.0/launches/{from_dt}/{to_dt}'"
   ]
  },
  {
   "cell_type": "code",
   "execution_count": null,
   "metadata": {},
   "outputs": [],
   "source": [
    "launches = []\n",
    "# because of pagination the api gives 100 results per page so for analysis you have to take data in all pages\n",
    "next_page = 1\n",
    "start = datetime.datetime.now()\n",
    "while next_page is not None:\n",
    "    params = {'origin': 'notebooks.gesis.org',\n",
    "             'page': next_page}\n",
    "    r = requests.get(url, params=params)\n",
    "    response = r.json()\n",
    "    # check the limit of queries per second/minute,\n",
    "    message = response.get(\"message\", \"\")\n",
    "    if message not in [\"2 per 1 second\", \"100 per 1 minute\"]:\n",
    "        launches.extend(response['launches'])\n",
    "        if next_page % 100 == 0:\n",
    "            timesnap = datetime.datetime.now() - start\n",
    "            print(f\"finished page {next_page}. Loop going for {math.floor(timesnap.seconds / 3600)}:{math.floor(timesnap.seconds % 3600 / 60)}:{timesnap.seconds % 3600 % 60}. Average time per page: {round(timesnap.seconds / next_page,3)} seconds\")\n",
    "        next_page = response['next_page']\n",
    "\n",
    "    else:\n",
    "        time.sleep(1)"
   ]
  },
  {
   "cell_type": "code",
   "execution_count": null,
   "metadata": {},
   "outputs": [],
   "source": [
    "data = pd.DataFrame.from_dict(launches)\n",
    "data.to_csv(\"launches_data.csv\")\n",
    "len(data)"
   ]
  },
  {
   "cell_type": "code",
   "execution_count": null,
   "metadata": {},
   "outputs": [],
   "source": [
    "data = pd.read_csv(\"launches_data.csv\")"
   ]
  },
  {
   "cell_type": "code",
   "execution_count": null,
   "metadata": {},
   "outputs": [],
   "source": [
    "totals_per_repo = (data.groupby([\"spec\"])\n",
    " .size()\n",
    " .reset_index(name='repo_counts')\n",
    "                   .sort_values(by='repo_counts', ascending=False))\n",
    "top10 = totals_per_repo.head(10)[\"spec\"]\n",
    "data_others = data\n",
    "data_others.loc[~data_others['spec'].isin(list(top10)), 'spec']  = 'others'\n",
    "totals_per_repo = (data_others.groupby([\"spec\"])\n",
    " .size()\n",
    " .reset_index(name='repo_counts')\n",
    "                   .sort_values(by='repo_counts', ascending=False))\n",
    "\n",
    "others_row = totals_per_repo.loc[totals_per_repo[\"spec\"] == \"others\"]\n",
    "totals_per_repo = totals_per_repo.loc[totals_per_repo[\"spec\"] != \"others\"]\n",
    "totals_per_repo = pd.concat([totals_per_repo, others_row])\n",
    "totals_per_repo"
   ]
  },
  {
   "cell_type": "code",
   "execution_count": null,
   "metadata": {},
   "outputs": [],
   "source": [
    "plt.bar(totals_per_repo[\"spec\"],totals_per_repo[\"repo_counts\"])\n",
    "plt.title(\"Most frequently launched repositories on notebooks.gesis.org\")\n",
    "plt.ylabel(\"Count of launches\")\n",
    "plt.xlabel(\"Repository\")\n",
    "plt.xticks(rotation=45, ha=\"right\")\n",
    "plt.show()"
   ]
  },
  {
   "cell_type": "markdown",
   "metadata": {},
   "source": [
    "## Total launches, no of repositories\n"
   ]
  },
  {
   "cell_type": "code",
   "execution_count": null,
   "metadata": {},
   "outputs": [],
   "source": [
    "data['date']=pd.to_datetime(data['timestamp']).dt.date\n",
    "\n",
    "repo_list = []\n",
    "\n",
    "for day in data['date']:\n",
    "    temp = data.loc[data['date'] == day].spec.unique()\n",
    "    to_add = []\n",
    "    #print(f\"elements in temp: {len(temp)}\")\n",
    "    for entry in temp:\n",
    "        if not any(entry in i for i in repo_list):\n",
    "            to_add.append(entry)\n",
    "            #print(f\"elements in to_add: {len(to_add)}\")\n",
    "    repo_list.append(to_add)\n",
    "\n",
    "\n",
    "cum_repo_list = []\n",
    "for i, idx in zip(repo_list, range(0, len(repo_list))):\n",
    "    count = len(i)\n",
    "    if idx == 0:\n",
    "        cum_repo_list.append(count)\n",
    "    else: \n",
    "        cum_repo_list.append(cum_repo_list[idx - 1] + count)\n",
    "    #print(f\"count: {cum_repo_list[idx]}\")\n",
    "\n",
    "\n",
    "plt.plot(data.date.unique(), cum_repo_list)"
   ]
  },
  {
   "cell_type": "code",
   "execution_count": 12,
   "metadata": {},
   "outputs": [
    {
     "data": {
      "text/plain": [
       "10413"
      ]
     },
     "execution_count": 12,
     "metadata": {},
     "output_type": "execute_result"
    }
   ],
   "source": [
    "len(data.spec.unique())"
   ]
  }
 ],
 "metadata": {
  "kernelspec": {
   "display_name": "Python 3 (ipykernel)",
   "language": "python",
   "name": "python3"
  },
  "language_info": {
   "codemirror_mode": {
    "name": "ipython",
    "version": 3
   },
   "file_extension": ".py",
   "mimetype": "text/x-python",
   "name": "python",
   "nbconvert_exporter": "python",
   "pygments_lexer": "ipython3",
   "version": "3.10.6"
  }
 },
 "nbformat": 4,
 "nbformat_minor": 4
}
